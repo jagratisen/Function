{
  "nbformat": 4,
  "nbformat_minor": 0,
  "metadata": {
    "colab": {
      "provenance": []
    },
    "kernelspec": {
      "name": "python3",
      "display_name": "Python 3"
    },
    "language_info": {
      "name": "python"
    }
  },
  "cells": [
    {
      "cell_type": "code",
      "source": [
        "# function Practical Questions:\n",
        "\n",
        "# 1.Write a Python function that takes a list of numbers as input and returns the sum of all even numbers in the list.\n",
        "def sum_of_even_numbers(numbers):\n",
        "  \"\"\"\n",
        "  This function takes a list of numbers as input and returns the sum of all even numbers in the list.\n",
        "\n",
        "  Args:\n",
        "    numbers: A list of numbers.\n",
        "\n",
        "  Returns:\n",
        "    The sum of all even numbers in the list.\n",
        "  \"\"\"\n",
        "  sum_even = 0\n",
        "  for number in numbers:\n",
        "    if number % 2 == 0:  # Check if the number is even\n",
        "      sum_even += number  # Add even number to the sum\n",
        "  return sum_even\n",
        "\n",
        "# Example usage:\n",
        "numbers = [1, 2, 3, 4, 5, 6]\n",
        "even_sum = sum_of_even_numbers(numbers)\n",
        "print(f\"The sum of even numbers in the list is: {even_sum}\")"
      ],
      "metadata": {
        "colab": {
          "base_uri": "https://localhost:8080/"
        },
        "id": "Qgn6OBLZfmdV",
        "outputId": "7e27337d-1dbe-42b5-bbb3-2a60191ed9bc"
      },
      "execution_count": null,
      "outputs": [
        {
          "output_type": "stream",
          "name": "stdout",
          "text": [
            "The sum of even numbers in the list is: 12\n"
          ]
        }
      ]
    },
    {
      "cell_type": "code",
      "source": [
        "# 2.. Create a Python function that accepts a string and returns the reverse of that string.\n",
        "def reverse_string(input_string):\n",
        "  \"\"\"\n",
        "  This function accepts a string and returns the reverse of that string.\n",
        "\n",
        "  Args:\n",
        "    input_string: The string to be reversed.\n",
        "\n",
        "  Returns:\n",
        "    The reversed string.\n",
        "  \"\"\"\n",
        "  return input_string[::-1]\n",
        "\n",
        "# Example usage:\n",
        "string = \"Hello, world!\"\n",
        "reversed_string = reverse_string(string)\n",
        "print(f\"The reversed string is: {reversed_string}\")  # Output: !dlrow ,olleH\n",
        "# How it Works:\n",
        "# Slicing: The function uses string slicing with a step of -1 ([::-1]).\n",
        "# Reversal: This slicing technique creates a reversed copy of the original string.\n",
        "# Return: The reversed string is then returned by the function.\n",
        "# Alternative Approach (using a loop):\n",
        "\n",
        "def reverse_string_loop(input_string):\n",
        "  reversed_string = \"\"\n",
        "  for char in input_string:\n",
        "    reversed_string = char + reversed_string  # Prepend each character\n",
        "  return reversed_string\n"
      ],
      "metadata": {
        "colab": {
          "base_uri": "https://localhost:8080/"
        },
        "id": "xNEX--LUg258",
        "outputId": "6e094668-eed9-4bc9-bc1b-60350cf62230"
      },
      "execution_count": null,
      "outputs": [
        {
          "output_type": "stream",
          "name": "stdout",
          "text": [
            "The reversed string is: !dlrow ,olleH\n"
          ]
        }
      ]
    },
    {
      "cell_type": "code",
      "source": [
        "# 3.. Implement a Python function that takes a list of integers and returns a new list containing the squares of each number.\n",
        "def square_numbers(numbers):\n",
        "  \"\"\"\n",
        "  This function takes a list of integers and returns a new list containing the squares of each number.\n",
        "   Args:\n",
        "    numbers: A list of integers.\n",
        "\n",
        "  Returns:\n",
        "    A new list containing the squares of each number in the input list.\n",
        "  \"\"\"\n",
        "  squared_numbers = []\n",
        "  for number in numbers:\n",
        "    squared_numbers.append(number ** 2)  # Square the number and add it to the new list\n",
        "  return squared_numbers\n",
        "\n",
        "# Example usage:\n",
        "numbers = [1, 2, 3, 4, 5]\n",
        "squared_numbers = square_numbers(numbers)\n",
        "print(f\"The squared numbers are: {squared_numbers}\")"
      ],
      "metadata": {
        "colab": {
          "base_uri": "https://localhost:8080/"
        },
        "id": "bmED8umKh8x5",
        "outputId": "4963603b-aab8-4a8c-8a0e-c4471cf55ee4"
      },
      "execution_count": null,
      "outputs": [
        {
          "output_type": "stream",
          "name": "stdout",
          "text": [
            "The squared numbers are: [1, 4, 9, 16, 25]\n"
          ]
        }
      ]
    },
    {
      "cell_type": "code",
      "source": [
        "# 4.Write a Python function that checks if a given number is prime or not from 1 to 200.\n",
        "def is_prime(number):\n",
        "  \"\"\"\n",
        "  Checks if a given number is prime or not.\n",
        "\n",
        "  Args:\n",
        "    number: The number to check.\n",
        "\n",
        "  Returns:\n",
        "    True if the number is prime, False otherwise.\n",
        "  \"\"\"\n",
        "  if number <= 1:\n",
        "    return False  # Numbers less than or equal to 1 are not prime\n",
        "  for i in range(2, int(number**0.5) + 1):\n",
        "    if number % i == 0:\n",
        "      return False  # If divisible by any number, it's not prime\n",
        "  return True  # If not divisible by any number, it's prime\n",
        "\n",
        "# Example usage:\n",
        "for num in range(1, 201):\n",
        "  if is_prime(num):\n",
        "    print(num)"
      ],
      "metadata": {
        "colab": {
          "base_uri": "https://localhost:8080/"
        },
        "id": "0w9SgcPxirR7",
        "outputId": "3a5d6145-3373-4b23-8aca-fe80317f4c65"
      },
      "execution_count": null,
      "outputs": [
        {
          "output_type": "stream",
          "name": "stdout",
          "text": [
            "2\n",
            "3\n",
            "5\n",
            "7\n",
            "11\n",
            "13\n",
            "17\n",
            "19\n",
            "23\n",
            "29\n",
            "31\n",
            "37\n",
            "41\n",
            "43\n",
            "47\n",
            "53\n",
            "59\n",
            "61\n",
            "67\n",
            "71\n",
            "73\n",
            "79\n",
            "83\n",
            "89\n",
            "97\n",
            "101\n",
            "103\n",
            "107\n",
            "109\n",
            "113\n",
            "127\n",
            "131\n",
            "137\n",
            "139\n",
            "149\n",
            "151\n",
            "157\n",
            "163\n",
            "167\n",
            "173\n",
            "179\n",
            "181\n",
            "191\n",
            "193\n",
            "197\n",
            "199\n"
          ]
        }
      ]
    },
    {
      "cell_type": "markdown",
      "source": [
        "How it works:\n",
        "\n",
        "Base Cases:\n",
        "\n",
        " If number is less than or equal to 1, it's not prime, so the function returns False.\n",
        "Iteration:\n",
        "\n",
        "The code iterates from 2 up to the square root of number (inclusive). We only need to check divisibility up to the square root because if a number has a divisor larger than its square root, it must also have a divisor smaller than its square root.\n",
        "\n",
        "Divisibility Check:\n",
        "\n",
        "For each i in the loop, it checks if number is divisible by i using the modulo operator (%). If it's divisible, it means number is not prime, and the function returns False.\n",
        "\n",
        "Prime Determination:\n",
        "\n",
        "If the loop completes without finding any divisors, it means number is prime, and the function returns True"
      ],
      "metadata": {
        "id": "LQPETM0yjCjx"
      }
    },
    {
      "cell_type": "code",
      "source": [
        "# 5.. Create an iterator class in Python that generates the Fibonacci sequence up to a specified number of terms.\n",
        "class FibonacciIterator:\n",
        "    def __init__(self, max_terms):\n",
        "        self.max_terms = max_terms\n",
        "        self.count = 0\n",
        "        self.a, self.b = 0, 1\n",
        "\n",
        "    def __iter__(self):\n",
        "        return self\n",
        "\n",
        "    def __next__(self):\n",
        "        if self.count < self.max_terms:\n",
        "            result = self.a\n",
        "            self.a, self.b = self.b, self.a + self.b\n",
        "            self.count += 1\n",
        "            return result\n",
        "        else:\n",
        "            raise StopIteration\n",
        "\n",
        "# Example usage:\n",
        "fib_iter = FibonacciIterator(10)  # Generate 10 Fibonacci numbers\n",
        "\n",
        "for num in fib_iter:\n",
        "    print(num)\n"
      ],
      "metadata": {
        "colab": {
          "base_uri": "https://localhost:8080/"
        },
        "id": "wE_e0oyRjptl",
        "outputId": "265c8fac-8a1f-4f16-a2ed-f7dcc87b979d"
      },
      "execution_count": null,
      "outputs": [
        {
          "output_type": "stream",
          "name": "stdout",
          "text": [
            "0\n",
            "1\n",
            "1\n",
            "2\n",
            "3\n",
            "5\n",
            "8\n",
            "13\n",
            "21\n",
            "34\n"
          ]
        }
      ]
    },
    {
      "cell_type": "markdown",
      "source": [
        "How it Works:\n",
        "\n",
        "1.__init__:\n",
        "\n",
        "->Initializes the iterator with the maximum number of terms (max_terms).\n",
        "\n",
        "->Sets the current count (count) to 0.\n",
        "Initializes the first two Fibonacci numbers (a and b) to 0 and 1.\n",
        "\n",
        "2.__iter__:\n",
        "\n",
        "->Returns the iterator object itself (self). This is required for the iterator protocol.\n",
        "\n",
        "3.__next__:\n",
        "\n",
        "->If the current count (count) is less than the maximum terms (max_terms):\n",
        "Stores the current Fibonacci number (a) in result.\n",
        "Calculates the next Fibonacci number using the formula a, b = b, a + b.\n",
        "Increments the count (count).\n",
        "Returns the result (the current Fibonacci number).\n",
        "\n",
        "If the count reaches the maximum terms, it raises a StopIteration exception to signal the end of the iteration.\n",
        "Example Usage:"
      ],
      "metadata": {
        "id": "-7zH9xm4kHZ0"
      }
    },
    {
      "cell_type": "code",
      "source": [
        "# 6.Write a generator function in Python that yields the powers of 2 up to a given exponent.\n",
        "def powers_of_2(exponent):\n",
        "  \"\"\"\n",
        "  This generator function yields the powers of 2 up to a given exponent.\n",
        "\n",
        "  Args:\n",
        "    exponent: The maximum exponent.\n",
        "\n",
        "  Yields:\n",
        "    The powers of 2.\n",
        "  \"\"\"\n",
        "  for i in range(exponent + 1):\n",
        "    yield 2 ** i\n",
        "\n",
        "# Example usage:\n",
        "for power in powers_of_2(5):\n",
        "  print(power)"
      ],
      "metadata": {
        "colab": {
          "base_uri": "https://localhost:8080/"
        },
        "id": "oGEAlASFkynr",
        "outputId": "fd85c8c6-3bef-48fa-ff1e-d2d226738a5f"
      },
      "execution_count": null,
      "outputs": [
        {
          "output_type": "stream",
          "name": "stdout",
          "text": [
            "1\n",
            "2\n",
            "4\n",
            "8\n",
            "16\n",
            "32\n"
          ]
        }
      ]
    },
    {
      "cell_type": "code",
      "source": [
        "# 7. Implement a generator function that reads a file line by line and yields each line as a string.\n",
        "def read_file_line_by_line(file_path):\n",
        "  \"\"\"\n",
        "  This generator function reads a file line by line and yields each line as a string.\n",
        "\n",
        "  Args:\n",
        "    file_path: The path to the file.\n",
        "\n",
        "  Yields:\n",
        "    Each line of the file as a string.\n",
        "  \"\"\"\n",
        "  with open(file_path, 'r') as file: # Opens the file in read mode ('r')\n",
        "    for line in file:\n",
        "      yield line.strip()  # strip() removes leading/trailing whitespace\n",
        "\n",
        "# Example usage:\n",
        "#file_path = 'my_file.txt'  # Replace with your file path\n",
        "file_path = 'test.txt' # Creates a sample file name to check the function\n",
        "# Create a file 'test.txt' in the current directory before runing the code\n",
        "with open(file_path, 'w') as f:\n",
        "    f.write('This is a test file.\\n')\n",
        "    f.write('It contains multiple lines.\\n')\n",
        "\n",
        "for line in read_file_line_by_line(file_path):\n",
        "  print(line)"
      ],
      "metadata": {
        "colab": {
          "base_uri": "https://localhost:8080/"
        },
        "id": "MA5myJaYkCuo",
        "outputId": "b3818bc9-c4e1-4b22-938d-58a50e07d96b"
      },
      "execution_count": null,
      "outputs": [
        {
          "output_type": "stream",
          "name": "stdout",
          "text": [
            "This is a test file.\n",
            "It contains multiple lines.\n"
          ]
        }
      ]
    },
    {
      "cell_type": "code",
      "source": [
        "# 8.Use a lambda function in Python to sort a list of tuples based on the second element of each tuple.\n",
        "# Sample list of tuples\n",
        "my_list = [('apple', 3), ('banana', 1), ('cherry', 2)]\n",
        "\n",
        "# Sort the list using a lambda function as the key\n",
        "sorted_list = sorted(my_list, key=lambda item: item[1])\n",
        "\n",
        "# Print the sorted list\n",
        "print(sorted_list)"
      ],
      "metadata": {
        "colab": {
          "base_uri": "https://localhost:8080/"
        },
        "id": "yfmQaU8cmKTF",
        "outputId": "98bcd780-5c63-4cdb-926b-2a328940406f"
      },
      "execution_count": null,
      "outputs": [
        {
          "output_type": "stream",
          "name": "stdout",
          "text": [
            "[('banana', 1), ('cherry', 2), ('apple', 3)]\n"
          ]
        }
      ]
    },
    {
      "cell_type": "code",
      "source": [
        "# 9. Write a Python program that uses `map()` to convert a list of temperatures from Celsius to Fahrenheit\n",
        "def celsius_to_fahrenheit(celsius):\n",
        "  \"\"\"Converts Celsius to Fahrenheit.\"\"\"\n",
        "  return (celsius * 9/5) + 32\n",
        "\n",
        "# List of temperatures in Celsius\n",
        "celsius_temps = [0, 10, 20, 30, 40]\n",
        "\n",
        "# Use map() to apply the conversion function to each element in the list\n",
        "fahrenheit_temps = list(map(celsius_to_fahrenheit, celsius_temps))\n",
        "\n",
        "# Print the converted temperatures\n",
        "print(fahrenheit_temps)"
      ],
      "metadata": {
        "colab": {
          "base_uri": "https://localhost:8080/"
        },
        "id": "_v2QgBlrmnoh",
        "outputId": "85169ccc-591a-4fce-b663-d47ee530c893"
      },
      "execution_count": null,
      "outputs": [
        {
          "output_type": "stream",
          "name": "stdout",
          "text": [
            "[32.0, 50.0, 68.0, 86.0, 104.0]\n"
          ]
        }
      ]
    },
    {
      "cell_type": "code",
      "source": [
        "# 10. Create a Python program that uses `filter()` to remove all the vowels from a given string.\n",
        "def remove_vowels(text):\n",
        "  \"\"\"Removes all vowels (a, e, i, o, u) from a string.\"\"\"\n",
        "  vowels = \"aeiouAEIOU\"\n",
        "  # Use filter() to keep only characters that are not vowels\n",
        "  filtered_chars = filter(lambda char: char not in vowels, text)\n",
        "  # Join the filtered characters back into a string\n",
        "  return \"\".join(filtered_chars)\n",
        "\n",
        "# Example usage:\n",
        "text = \"Hello, world!\"\n",
        "result = remove_vowels(text)\n",
        "print(result)  # Output: Hll, wrld!"
      ],
      "metadata": {
        "colab": {
          "base_uri": "https://localhost:8080/"
        },
        "id": "bUzlvUc9m8-K",
        "outputId": "f6df89ed-c8fa-4861-d3d8-99938549933f"
      },
      "execution_count": null,
      "outputs": [
        {
          "output_type": "stream",
          "name": "stdout",
          "text": [
            "Hll, wrld!\n"
          ]
        }
      ]
    },
    {
      "cell_type": "code",
      "source": [
        "# 11.magine an accounting routine used in a book shop. It works on a list with sublists, which look like this: Write a Python program, which returns a list with 2-tuples. Each tuple consists of the order number and the product of the price per item and the quantity. The product should be increased by 10,- € if the value of the order is smaller than 100,00 €. Write a Python program using lambda and map.\n",
        "orders = [ [\"34587\", \"Learning Python, Mark Lutz\", 4, 40.95],\n",
        "           [\"98762\", \"Programming Python, Mark Lutz\", 5, 56.80],\n",
        "           [\"77226\", \"Head First Python, Paul Barry\", 3,32.95],\n",
        "           [\"88112\", \"Einführung in Python3, Bernd Klein\",  3, 24.99]]\n",
        "\n",
        "invoice_totals = list(map(lambda x: (x[0], x[2] * x[3] if x[2] * x[3] >= 100 else x[2] * x[3] + 10), orders))\n",
        "\n",
        "print(invoice_totals)"
      ],
      "metadata": {
        "colab": {
          "base_uri": "https://localhost:8080/"
        },
        "id": "DxvXEwE-nbij",
        "outputId": "aca7971d-5ea3-4aa1-9849-32c6e27b1478"
      },
      "execution_count": null,
      "outputs": [
        {
          "output_type": "stream",
          "name": "stdout",
          "text": [
            "[('34587', 163.8), ('98762', 284.0), ('77226', 108.85000000000001), ('88112', 84.97)]\n"
          ]
        }
      ]
    },
    {
      "cell_type": "markdown",
      "source": [
        "How it works:\n",
        "\n",
        "1.orders list: This list contains the details of each order as sublists. Each sublist represents an order and has the following format: [order_number, book_title, quantity, price_per_item].\n",
        "\n",
        "2.lambda function:\n",
        "\n",
        "->The lambda function takes a single argument x, which represents a sublist (an order) from the orders list.\n",
        "\n",
        "->It calculates the total value of the order using x[2] * x[3] (quantity * price_per_item).\n",
        "\n",
        "->It applies the condition: if the total value is less than 100.00, it adds 10.00 to the total; otherwise, it keeps the total as is.\n",
        "\n",
        "->It returns a tuple containing the order number (x[0]) and the calculated total value.\n",
        "\n",
        "3.map() function:\n",
        "\n",
        "->The map() function applies the lambda function to each sublist in the orders list.\n",
        "\n",
        "->It returns a map object containing the results (the\n",
        "tuples).\n",
        "\n",
        "4.list(): The list() function converts the map object into a list so we can print the results.\n",
        "\n",
        "5.print(invoice_totals): This line prints the final list of tuples, representing the invoice totals for each order"
      ],
      "metadata": {
        "id": "iiwY54WJpKH1"
      }
    },
    {
      "cell_type": "code",
      "source": [],
      "metadata": {
        "id": "vG2R-chJp-qr"
      },
      "execution_count": null,
      "outputs": []
    }
  ]
}